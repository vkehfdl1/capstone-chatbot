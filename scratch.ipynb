{
 "cells": [
  {
   "cell_type": "code",
   "execution_count": 2,
   "id": "initial_id",
   "metadata": {
    "collapsed": true,
    "ExecuteTime": {
     "end_time": "2023-11-27T04:50:16.553659Z",
     "start_time": "2023-11-27T04:50:15.693931Z"
    }
   },
   "outputs": [],
   "source": [
    "from typing import List\n",
    "\n",
    "from dotenv import load_dotenv\n",
    "import os\n",
    "\n",
    "load_dotenv()\n",
    "from langchain.llms.vllm import VLLMOpenAI\n",
    "from langchain.prompts import PromptTemplate\n",
    "from langchain.schema import StrOutputParser\n",
    "import pandas as pd\n",
    "import sacrebleu"
   ]
  },
  {
   "cell_type": "code",
   "execution_count": 3,
   "outputs": [],
   "source": [
    "df = pd.read_csv('reranker_only_answer.csv')"
   ],
   "metadata": {
    "collapsed": false,
    "ExecuteTime": {
     "end_time": "2023-11-27T04:50:16.583740Z",
     "start_time": "2023-11-27T04:50:16.554904Z"
    }
   },
   "id": "79b6fd1f4d755bad"
  },
  {
   "cell_type": "code",
   "execution_count": 4,
   "outputs": [],
   "source": [
    "from typing import List\n",
    "\n",
    "\n",
    "def bleu(gt_answer: List[str], pred: str) -> float:\n",
    "    return sacrebleu.sentence_bleu(pred, gt_answer).score"
   ],
   "metadata": {
    "collapsed": false,
    "ExecuteTime": {
     "end_time": "2023-11-27T04:50:17.493460Z",
     "start_time": "2023-11-27T04:50:17.490611Z"
    }
   },
   "id": "3c9a6294b30935c0"
  },
  {
   "cell_type": "code",
   "execution_count": 5,
   "outputs": [],
   "source": [
    "import re\n",
    "import string\n",
    "from collections import Counter\n",
    "\n",
    "\n",
    "def _normalize_answer(s):\n",
    "    \"\"\"\n",
    "    Taken from the official evaluation script for v1.1 of the SQuAD dataset.\n",
    "    Lower text and remove punctuation, articles and extra whitespace.\n",
    "    \"\"\"\n",
    "\n",
    "    def remove_articles(text):\n",
    "        return re.sub(r\"\\b(a|an|the)\\b\", \" \", text)\n",
    "\n",
    "    def white_space_fix(text):\n",
    "        return \" \".join(text.split())\n",
    "\n",
    "    def remove_punc(text):\n",
    "        exclude = set(string.punctuation)\n",
    "        return \"\".join(ch for ch in text if ch not in exclude)\n",
    "\n",
    "    def lower(text):\n",
    "        return text.lower()\n",
    "\n",
    "    return white_space_fix(remove_articles(remove_punc(lower(s))))\n",
    "\n",
    "\n",
    "def _token_f1_score(prediction, ground_truth):\n",
    "    \"\"\"\n",
    "    Taken from the official evaluation script for v1.1 of the SQuAD dataset.\n",
    "    \"\"\"\n",
    "    prediction_tokens = _normalize_answer(prediction).split()\n",
    "    ground_truth_tokens = _normalize_answer(ground_truth).split()\n",
    "    common = Counter(prediction_tokens) & Counter(ground_truth_tokens)\n",
    "    num_same = sum(common.values())\n",
    "    if num_same == 0:\n",
    "        return 0\n",
    "    precision = 1.0 * num_same / len(prediction_tokens)\n",
    "    recall = 1.0 * num_same / len(ground_truth_tokens)\n",
    "    f1 = (2 * precision * recall) / (precision + recall)\n",
    "    return f1"
   ],
   "metadata": {
    "collapsed": false,
    "ExecuteTime": {
     "end_time": "2023-11-27T04:50:18.395193Z",
     "start_time": "2023-11-27T04:50:18.390297Z"
    }
   },
   "id": "c8a7d74ce7356500"
  },
  {
   "cell_type": "code",
   "execution_count": 6,
   "outputs": [],
   "source": [
    "from typing import List\n",
    "\n",
    "\n",
    "def KF1(gt_passages: List[str], pred: str) -> float:\n",
    "    return _token_f1_score(pred, \"\\n\".join(gt_passages))"
   ],
   "metadata": {
    "collapsed": false,
    "ExecuteTime": {
     "end_time": "2023-11-27T04:50:19.443725Z",
     "start_time": "2023-11-27T04:50:19.438866Z"
    }
   },
   "id": "2051c950ba263fd5"
  },
  {
   "cell_type": "code",
   "execution_count": 129,
   "outputs": [],
   "source": [
    "def corpus_cumfreq(corpus: List[str]):\n",
    "    freq_dist = Counter(corpus)\n",
    "    cumulative_freq_dist = {}\n",
    "    cumulative_freq = 0\n",
    "    for value, freq in sorted(freq_dist.items(), key=lambda item: item[1]):\n",
    "        cumulative_freq += freq\n",
    "        cumulative_freq_dist[value] = cumulative_freq\n",
    "    return freq_dist, cumulative_freq_dist\n",
    "\n",
    "\n",
    "def find_corpus(data: pd.DataFrame, doi: str) -> List[str]:\n",
    "    paper = data.loc[data['id'] == doi]\n",
    "    joined_strings = []\n",
    "    for elem in paper['full_text'].values[0]['paragraphs']:\n",
    "        joined_strings.append(\" \".join(elem))\n",
    "    return _normalize_answer(\" \".join(joined_strings)).split()"
   ],
   "metadata": {
    "collapsed": false,
    "ExecuteTime": {
     "end_time": "2023-11-27T07:49:34.269757Z",
     "start_time": "2023-11-27T07:49:34.257572Z"
    }
   },
   "id": "4d3860308f08dc4"
  },
  {
   "cell_type": "code",
   "execution_count": 45,
   "outputs": [],
   "source": [
    "def lower_half(cumfreqs, sentence):\n",
    "    sentence_tokens = _normalize_answer(sentence).split()\n",
    "    lower_half = list(cumfreqs.values())[-1] // 2\n",
    "    rare_tokens = []\n",
    "    for token in sentence_tokens:\n",
    "        freq = cumfreqs.get(token, 0)\n",
    "        if freq <= lower_half:\n",
    "            rare_tokens.append(token)\n",
    "    return \" \".join(rare_tokens)"
   ],
   "metadata": {
    "collapsed": false,
    "ExecuteTime": {
     "end_time": "2023-11-27T05:12:54.034201Z",
     "start_time": "2023-11-27T05:12:54.024253Z"
    }
   },
   "id": "dcab296ee37512c1"
  },
  {
   "cell_type": "code",
   "execution_count": 46,
   "outputs": [],
   "source": [
    "def rare_f1(corpus, pred, gt):\n",
    "    freq_dist, cumfreqs = corpus_cumfreq(corpus)\n",
    "    rare_pred = lower_half(cumfreqs, pred)\n",
    "    rare_gt = lower_half(cumfreqs, gt)\n",
    "    return _token_f1_score(rare_pred, rare_gt)"
   ],
   "metadata": {
    "collapsed": false,
    "ExecuteTime": {
     "end_time": "2023-11-27T05:13:17.062681Z",
     "start_time": "2023-11-27T05:13:17.056497Z"
    }
   },
   "id": "eebda07bb47c79e4"
  },
  {
   "cell_type": "code",
   "execution_count": 51,
   "outputs": [
    {
     "data": {
      "text/plain": "                                            question  \\\n0                    What evaluation metric is used?   \n1                          What dataset do they use?   \n2  By how much do they outperform existing state-...   \n3  By how much does their method outperform state...   \n4  Is the baseline a non-heirarchical model like ...   \n\n                                        retrieval_gt  \\\n0                     ['1908.06083-8-Table10-1.png']   \n1  ['1910.11471-Proposed Methodology ::: Statisti...   \n2  ['1912.03010-EXPERIMENT ::: TedLium2-1'\\n '191...   \n3  ['1905.10247-EXPERIMENTAL SETUP AND EVALUATION...   \n4  ['1905.06566-Results-0' '1905.06566-7-Table1-1...   \n\n                                           answer_gt  \\\n0                             ['F1 and Weighted-F1']   \n1  ['A parallel corpus where the source is an Eng...   \n2                                            ['10%']   \n3  ['AE-HCN outperforms by 17%, AE-HCN-CNN outper...   \n4  ['There were hierarchical and non-hierarchical...   \n\n                               retrieval_gt_contents  \\\n0  ['Table 10: Results of experiments on the mult...   \n1  ['SMT techniques require a parallel corpus in ...   \n2  ['As far as we know, our model is the best E2E...   \n3  ['The result is shown in Table TABREF23 . Sinc...   \n4  ['Our main results on the CNNDM dataset are sh...   \n\n                                         answer_pred  \\\n0  \\n            Given two paper passages, what i...   \n1  1. NLP research paper passages:\\n            M...   \n2  \\n            Semantic Masking is a technique ...   \n3  \\n        [0]\\n            Question: By how mu...   \n4  1. BERT is a non-heirarchical model, but Hiber...   \n\n                                         passage_ids  \\\n0  ['1908.06083-Baselines: Wikipedia Toxic Commen...   \n1  ['1910.11471-Problem Description ::: NLP of st...   \n2  ['1912.03010-EXPERIMENT ::: Librispeech 960h-3...   \n3  ['1905.10247-CONCLUSION-0', '1905.10247-EXPERI...   \n4  ['1905.06566-Results-0', '1905.06566-Document ...   \n\n                                    passage_contents  \\\n0  ['We compare the two aforementioned models wit...   \n1  ['Mihalcea R. et al. has achieved a variable s...   \n2  ['As far as we know, our model is the best E2E...   \n3  ['We proposed a novel OOD detection method tha...   \n4  ['Our main results on the CNNDM dataset are sh...   \n\n              passage_scores  Recall  F1_score  Precision       KF1      BLEU  \n0  [1.0, 1.0, 1.0, 1.0, 1.0]     1.0       1.0        1.0  0.024390  0.000000  \n1  [1.0, 1.0, 1.0, 1.0, 1.0]     1.0       1.0        1.0  0.500000  0.705569  \n2  [1.0, 1.0, 1.0, 1.0, 1.0]     1.0       1.0        1.0  0.262997  0.000000  \n3  [1.0, 1.0, 1.0, 1.0, 1.0]     1.0       1.0        1.0  0.337875  0.544894  \n4  [1.0, 1.0, 1.0, 1.0, 1.0]     1.0       1.0        1.0  0.164623  0.279467  ",
      "text/html": "<div>\n<style scoped>\n    .dataframe tbody tr th:only-of-type {\n        vertical-align: middle;\n    }\n\n    .dataframe tbody tr th {\n        vertical-align: top;\n    }\n\n    .dataframe thead th {\n        text-align: right;\n    }\n</style>\n<table border=\"1\" class=\"dataframe\">\n  <thead>\n    <tr style=\"text-align: right;\">\n      <th></th>\n      <th>question</th>\n      <th>retrieval_gt</th>\n      <th>answer_gt</th>\n      <th>retrieval_gt_contents</th>\n      <th>answer_pred</th>\n      <th>passage_ids</th>\n      <th>passage_contents</th>\n      <th>passage_scores</th>\n      <th>Recall</th>\n      <th>F1_score</th>\n      <th>Precision</th>\n      <th>KF1</th>\n      <th>BLEU</th>\n    </tr>\n  </thead>\n  <tbody>\n    <tr>\n      <th>0</th>\n      <td>What evaluation metric is used?</td>\n      <td>['1908.06083-8-Table10-1.png']</td>\n      <td>['F1 and Weighted-F1']</td>\n      <td>['Table 10: Results of experiments on the mult...</td>\n      <td>\\n            Given two paper passages, what i...</td>\n      <td>['1908.06083-Baselines: Wikipedia Toxic Commen...</td>\n      <td>['We compare the two aforementioned models wit...</td>\n      <td>[1.0, 1.0, 1.0, 1.0, 1.0]</td>\n      <td>1.0</td>\n      <td>1.0</td>\n      <td>1.0</td>\n      <td>0.024390</td>\n      <td>0.000000</td>\n    </tr>\n    <tr>\n      <th>1</th>\n      <td>What dataset do they use?</td>\n      <td>['1910.11471-Proposed Methodology ::: Statisti...</td>\n      <td>['A parallel corpus where the source is an Eng...</td>\n      <td>['SMT techniques require a parallel corpus in ...</td>\n      <td>1. NLP research paper passages:\\n            M...</td>\n      <td>['1910.11471-Problem Description ::: NLP of st...</td>\n      <td>['Mihalcea R. et al. has achieved a variable s...</td>\n      <td>[1.0, 1.0, 1.0, 1.0, 1.0]</td>\n      <td>1.0</td>\n      <td>1.0</td>\n      <td>1.0</td>\n      <td>0.500000</td>\n      <td>0.705569</td>\n    </tr>\n    <tr>\n      <th>2</th>\n      <td>By how much do they outperform existing state-...</td>\n      <td>['1912.03010-EXPERIMENT ::: TedLium2-1'\\n '191...</td>\n      <td>['10%']</td>\n      <td>['As far as we know, our model is the best E2E...</td>\n      <td>\\n            Semantic Masking is a technique ...</td>\n      <td>['1912.03010-EXPERIMENT ::: Librispeech 960h-3...</td>\n      <td>['As far as we know, our model is the best E2E...</td>\n      <td>[1.0, 1.0, 1.0, 1.0, 1.0]</td>\n      <td>1.0</td>\n      <td>1.0</td>\n      <td>1.0</td>\n      <td>0.262997</td>\n      <td>0.000000</td>\n    </tr>\n    <tr>\n      <th>3</th>\n      <td>By how much does their method outperform state...</td>\n      <td>['1905.10247-EXPERIMENTAL SETUP AND EVALUATION...</td>\n      <td>['AE-HCN outperforms by 17%, AE-HCN-CNN outper...</td>\n      <td>['The result is shown in Table TABREF23 . Sinc...</td>\n      <td>\\n        [0]\\n            Question: By how mu...</td>\n      <td>['1905.10247-CONCLUSION-0', '1905.10247-EXPERI...</td>\n      <td>['We proposed a novel OOD detection method tha...</td>\n      <td>[1.0, 1.0, 1.0, 1.0, 1.0]</td>\n      <td>1.0</td>\n      <td>1.0</td>\n      <td>1.0</td>\n      <td>0.337875</td>\n      <td>0.544894</td>\n    </tr>\n    <tr>\n      <th>4</th>\n      <td>Is the baseline a non-heirarchical model like ...</td>\n      <td>['1905.06566-Results-0' '1905.06566-7-Table1-1...</td>\n      <td>['There were hierarchical and non-hierarchical...</td>\n      <td>['Our main results on the CNNDM dataset are sh...</td>\n      <td>1. BERT is a non-heirarchical model, but Hiber...</td>\n      <td>['1905.06566-Results-0', '1905.06566-Document ...</td>\n      <td>['Our main results on the CNNDM dataset are sh...</td>\n      <td>[1.0, 1.0, 1.0, 1.0, 1.0]</td>\n      <td>1.0</td>\n      <td>1.0</td>\n      <td>1.0</td>\n      <td>0.164623</td>\n      <td>0.279467</td>\n    </tr>\n  </tbody>\n</table>\n</div>"
     },
     "execution_count": 51,
     "metadata": {},
     "output_type": "execute_result"
    }
   ],
   "source": [
    "df.head()"
   ],
   "metadata": {
    "collapsed": false,
    "ExecuteTime": {
     "end_time": "2023-11-27T05:31:58.052796Z",
     "start_time": "2023-11-27T05:31:58.048977Z"
    }
   },
   "id": "d309d510e227aad6"
  },
  {
   "cell_type": "code",
   "execution_count": 52,
   "outputs": [],
   "source": [
    "gold_answer = pd.read_csv('./reranker_only_answer_with_gold_answer.csv')"
   ],
   "metadata": {
    "collapsed": false,
    "ExecuteTime": {
     "end_time": "2023-11-27T05:32:35.798877Z",
     "start_time": "2023-11-27T05:32:35.757490Z"
    }
   },
   "id": "85f7d431eac84e65"
  },
  {
   "cell_type": "code",
   "execution_count": 53,
   "outputs": [],
   "source": [
    "no_passage_answer = pd.read_csv('./reranker_only_no_passage_answer.csv')"
   ],
   "metadata": {
    "collapsed": false,
    "ExecuteTime": {
     "end_time": "2023-11-27T05:32:51.094591Z",
     "start_time": "2023-11-27T05:32:51.052766Z"
    }
   },
   "id": "78b53232abc0d7ac"
  },
  {
   "cell_type": "code",
   "execution_count": 54,
   "outputs": [
    {
     "data": {
      "text/plain": "Index(['question', 'retrieval_gt', 'answer_gt', 'retrieval_gt_contents',\n       'answer_pred', 'passage_ids', 'passage_contents', 'passage_scores',\n       'Recall', 'F1_score', 'Precision', 'KF1', 'BLEU', 'gt_answer_bleu',\n       'gt_answer_kf1', 'gt_passage_bleu', 'gt_passage_kf1', 'gold_answer',\n       'gold_answer_bleu', 'gold_answer_kf1'],\n      dtype='object')"
     },
     "execution_count": 54,
     "metadata": {},
     "output_type": "execute_result"
    }
   ],
   "source": [
    "gold_answer.columns"
   ],
   "metadata": {
    "collapsed": false,
    "ExecuteTime": {
     "end_time": "2023-11-27T05:32:56.964387Z",
     "start_time": "2023-11-27T05:32:56.962287Z"
    }
   },
   "id": "e504b0a3078aca53"
  },
  {
   "cell_type": "code",
   "execution_count": 55,
   "outputs": [
    {
     "data": {
      "text/plain": "Index(['question', 'retrieval_gt', 'answer_gt', 'retrieval_gt_contents',\n       'answer_pred', 'passage_ids', 'passage_contents', 'passage_scores',\n       'Recall', 'F1_score', 'Precision', 'KF1', 'BLEU', 'no_passage_answers'],\n      dtype='object')"
     },
     "execution_count": 55,
     "metadata": {},
     "output_type": "execute_result"
    }
   ],
   "source": [
    "no_passage_answer.columns"
   ],
   "metadata": {
    "collapsed": false,
    "ExecuteTime": {
     "end_time": "2023-11-27T05:33:17.301113Z",
     "start_time": "2023-11-27T05:33:17.292747Z"
    }
   },
   "id": "a6551f271e1dec62"
  },
  {
   "cell_type": "code",
   "execution_count": 59,
   "outputs": [],
   "source": [
    "df['gold_answer'] = gold_answer['gold_answer']\n",
    "df['no_passage_answers'] = no_passage_answer['no_passage_answers']"
   ],
   "metadata": {
    "collapsed": false,
    "ExecuteTime": {
     "end_time": "2023-11-27T05:34:04.588886Z",
     "start_time": "2023-11-27T05:34:04.575057Z"
    }
   },
   "id": "7056a4c51e7942bb"
  },
  {
   "cell_type": "code",
   "execution_count": 72,
   "outputs": [
    {
     "data": {
      "text/plain": "0.06046515312253118"
     },
     "execution_count": 72,
     "metadata": {},
     "output_type": "execute_result"
    }
   ],
   "source": [
    "import ast\n",
    "df['token_f1'] = df.apply(lambda row: _token_f1_score(row['answer_pred'], ast.literal_eval(row['answer_gt'])[0]), axis=1)\n",
    "df['token_f1'].mean()"
   ],
   "metadata": {
    "collapsed": false,
    "ExecuteTime": {
     "end_time": "2023-11-27T07:25:03.716745Z",
     "start_time": "2023-11-27T07:25:03.664754Z"
    }
   },
   "id": "36abe2bd31af8ea2"
  },
  {
   "cell_type": "code",
   "execution_count": 74,
   "outputs": [
    {
     "data": {
      "text/plain": "0.08481445375163638"
     },
     "execution_count": 74,
     "metadata": {},
     "output_type": "execute_result"
    }
   ],
   "source": [
    "df['gold_token_f1'] = df.apply(lambda row: _token_f1_score(row['gold_answer'], ast.literal_eval(row['answer_gt'])[0]), axis=1)\n",
    "df['gold_token_f1'].mean()"
   ],
   "metadata": {
    "collapsed": false,
    "ExecuteTime": {
     "end_time": "2023-11-27T07:25:46.607342Z",
     "start_time": "2023-11-27T07:25:46.605508Z"
    }
   },
   "id": "b91b19b6c8cabe2c"
  },
  {
   "cell_type": "code",
   "execution_count": 75,
   "outputs": [
    {
     "data": {
      "text/plain": "0.043273290721519204"
     },
     "execution_count": 75,
     "metadata": {},
     "output_type": "execute_result"
    }
   ],
   "source": [
    "df['no_passage_token_f1'] = df.apply(lambda row: _token_f1_score(row['no_passage_answers'], ast.literal_eval(row['answer_gt'])[0]), axis=1)\n",
    "df['no_passage_token_f1'].mean()"
   ],
   "metadata": {
    "collapsed": false,
    "ExecuteTime": {
     "end_time": "2023-11-27T07:26:28.619833Z",
     "start_time": "2023-11-27T07:26:28.605412Z"
    }
   },
   "id": "890e25a13d24cace"
  },
  {
   "cell_type": "code",
   "execution_count": 76,
   "outputs": [
    {
     "data": {
      "text/plain": "0.10310820360555838"
     },
     "execution_count": 76,
     "metadata": {},
     "output_type": "execute_result"
    }
   ],
   "source": [
    "df['gt_passage_token_f1'] = df.apply(lambda row: _token_f1_score(\" \".join(ast.literal_eval(row['retrieval_gt_contents'])),\n",
    "                                                                 ast.literal_eval(row['answer_gt'])[0]), axis=1)\n",
    "df['gt_passage_token_f1'].mean()"
   ],
   "metadata": {
    "collapsed": false,
    "ExecuteTime": {
     "end_time": "2023-11-27T07:28:00.796353Z",
     "start_time": "2023-11-27T07:28:00.745193Z"
    }
   },
   "id": "fff3e197affc7f0d"
  },
  {
   "cell_type": "code",
   "execution_count": 86,
   "outputs": [],
   "source": [
    "from datasets import load_dataset\n",
    "\n",
    "data = load_dataset(\"NomaDamas/qasper\")['train'].to_pandas()\n",
    "data = data.drop('__index_level_0__', axis=1)"
   ],
   "metadata": {
    "collapsed": false,
    "ExecuteTime": {
     "end_time": "2023-11-27T07:36:48.717278Z",
     "start_time": "2023-11-27T07:36:42.871935Z"
    }
   },
   "id": "85d5904aecb2d33f"
  },
  {
   "cell_type": "code",
   "execution_count": 99,
   "outputs": [],
   "source": [
    "def calc_rare_f1(row, pred, gt):\n",
    "    doi = ast.literal_eval(row['retrieval_gt'])[0].split('-')[0]\n",
    "    corpus = find_corpus(data, doi)\n",
    "    return rare_f1(corpus, pred, gt)"
   ],
   "metadata": {
    "collapsed": false,
    "ExecuteTime": {
     "end_time": "2023-11-27T07:39:11.410890Z",
     "start_time": "2023-11-27T07:39:11.401785Z"
    }
   },
   "id": "7cd717721f6067ac"
  },
  {
   "cell_type": "code",
   "execution_count": 130,
   "outputs": [
    {
     "data": {
      "text/plain": "0.03746015562332183"
     },
     "execution_count": 130,
     "metadata": {},
     "output_type": "execute_result"
    }
   ],
   "source": [
    "df['rare_f1'] = df.apply(lambda row: calc_rare_f1(row, row['answer_pred'], ast.literal_eval(row['answer_gt'])[0]), axis=1)\n",
    "df['rare_f1'].mean()"
   ],
   "metadata": {
    "collapsed": false,
    "ExecuteTime": {
     "end_time": "2023-11-27T07:49:40.780060Z",
     "start_time": "2023-11-27T07:49:40.778310Z"
    }
   },
   "id": "b13a7da243733cbb"
  },
  {
   "cell_type": "code",
   "execution_count": 132,
   "outputs": [
    {
     "data": {
      "text/plain": "0.060582321281304086"
     },
     "execution_count": 132,
     "metadata": {},
     "output_type": "execute_result"
    }
   ],
   "source": [
    "df['gold_rare_f1'] = df.apply(lambda row: calc_rare_f1(row, row['gold_answer'], ast.literal_eval(row['answer_gt'])[0]), axis=1)\n",
    "df['gold_rare_f1'].mean()"
   ],
   "metadata": {
    "collapsed": false,
    "ExecuteTime": {
     "end_time": "2023-11-27T07:51:05.321300Z",
     "start_time": "2023-11-27T07:51:05.319572Z"
    }
   },
   "id": "1e9122d838444df6"
  },
  {
   "cell_type": "code",
   "execution_count": 134,
   "outputs": [
    {
     "data": {
      "text/plain": "0.017825029267544274"
     },
     "execution_count": 134,
     "metadata": {},
     "output_type": "execute_result"
    }
   ],
   "source": [
    "df['no_passages_rare_f1'] = df.apply(lambda row: calc_rare_f1(row, row['no_passage_answers'], ast.literal_eval(row['answer_gt'])[0]), axis=1)\n",
    "df['no_passages_rare_f1'].mean()"
   ],
   "metadata": {
    "collapsed": false,
    "ExecuteTime": {
     "end_time": "2023-11-27T07:52:05.987686Z",
     "start_time": "2023-11-27T07:52:05.033270Z"
    }
   },
   "id": "c03ff5be2302c204"
  },
  {
   "cell_type": "code",
   "execution_count": 135,
   "outputs": [
    {
     "data": {
      "text/plain": "0.08851641740441335"
     },
     "execution_count": 135,
     "metadata": {},
     "output_type": "execute_result"
    }
   ],
   "source": [
    "df['gt_passage_rare_f1'] = df.apply(lambda row: calc_rare_f1(row, \" \".join(ast.literal_eval(row['retrieval_gt_contents'])),\n",
    "                                                                           ast.literal_eval(row['answer_gt'])[0]), axis=1)\n",
    "df['gt_passage_rare_f1'].mean()"
   ],
   "metadata": {
    "collapsed": false,
    "ExecuteTime": {
     "end_time": "2023-11-27T07:52:50.068199Z",
     "start_time": "2023-11-27T07:52:48.892089Z"
    }
   },
   "id": "5231cac1da322a49"
  },
  {
   "cell_type": "code",
   "execution_count": 18,
   "outputs": [],
   "source": [
    "import ast\n",
    "\n",
    "df['gt_answer_bleu'] = df.apply(\n",
    "    lambda row: bleu(ast.literal_eval(row['answer_gt']), ast.literal_eval(row['answer_gt'])[0]), axis=1)"
   ],
   "metadata": {
    "collapsed": false,
    "ExecuteTime": {
     "end_time": "2023-11-23T16:42:15.039506Z",
     "start_time": "2023-11-23T16:42:15.026991Z"
    }
   },
   "id": "98bf75c19f28c360"
  },
  {
   "cell_type": "code",
   "execution_count": 19,
   "outputs": [
    {
     "data": {
      "text/plain": "100.00000000000003"
     },
     "execution_count": 19,
     "metadata": {},
     "output_type": "execute_result"
    }
   ],
   "source": [
    "df['gt_answer_bleu'].mean()"
   ],
   "metadata": {
    "collapsed": false,
    "ExecuteTime": {
     "end_time": "2023-11-23T16:42:16.135302Z",
     "start_time": "2023-11-23T16:42:16.131858Z"
    }
   },
   "id": "5e70718685314c4e"
  },
  {
   "cell_type": "code",
   "execution_count": 20,
   "outputs": [],
   "source": [
    "df['gt_answer_kf1'] = df.apply(\n",
    "    lambda row: KF1(ast.literal_eval(row['retrieval_gt_contents']), ast.literal_eval(row['answer_gt'])[0]), axis=1)"
   ],
   "metadata": {
    "collapsed": false,
    "ExecuteTime": {
     "end_time": "2023-11-23T16:43:05.910485Z",
     "start_time": "2023-11-23T16:43:05.900661Z"
    }
   },
   "id": "f538187cbff49f2b"
  },
  {
   "cell_type": "code",
   "execution_count": 21,
   "outputs": [
    {
     "data": {
      "text/plain": "0.10310820360555838"
     },
     "execution_count": 21,
     "metadata": {},
     "output_type": "execute_result"
    }
   ],
   "source": [
    "df['gt_answer_kf1'].mean()"
   ],
   "metadata": {
    "collapsed": false,
    "ExecuteTime": {
     "end_time": "2023-11-23T16:43:07.482073Z",
     "start_time": "2023-11-23T16:43:07.478638Z"
    }
   },
   "id": "b96a64d402e9108a"
  },
  {
   "cell_type": "code",
   "execution_count": 22,
   "outputs": [],
   "source": [
    "df['gt_passage_bleu'] = df.apply(\n",
    "    lambda row: bleu(ast.literal_eval(row['answer_gt']), \"\\n\".join(ast.literal_eval(row['retrieval_gt_contents']))),\n",
    "    axis=1)"
   ],
   "metadata": {
    "collapsed": false,
    "ExecuteTime": {
     "end_time": "2023-11-23T16:43:57.777071Z",
     "start_time": "2023-11-23T16:43:57.580365Z"
    }
   },
   "id": "a811d1a6303611ec"
  },
  {
   "cell_type": "code",
   "execution_count": 23,
   "outputs": [
    {
     "data": {
      "text/plain": "2.1915072434824023"
     },
     "execution_count": 23,
     "metadata": {},
     "output_type": "execute_result"
    }
   ],
   "source": [
    "df['gt_passage_bleu'].mean()"
   ],
   "metadata": {
    "collapsed": false,
    "ExecuteTime": {
     "end_time": "2023-11-23T16:43:59.590285Z",
     "start_time": "2023-11-23T16:43:59.583301Z"
    }
   },
   "id": "c228b89a5fbb646d"
  },
  {
   "cell_type": "code",
   "execution_count": 24,
   "outputs": [],
   "source": [
    "df['gt_passage_kf1'] = df.apply(lambda row: KF1(ast.literal_eval(row['retrieval_gt_contents']),\n",
    "                                                \"\\n\".join(ast.literal_eval(row['retrieval_gt_contents']))), axis=1)"
   ],
   "metadata": {
    "collapsed": false,
    "ExecuteTime": {
     "end_time": "2023-11-23T16:44:43.428480Z",
     "start_time": "2023-11-23T16:44:43.327090Z"
    }
   },
   "id": "4683786148ff5f1e"
  },
  {
   "cell_type": "code",
   "execution_count": 25,
   "outputs": [
    {
     "data": {
      "text/plain": "1.0"
     },
     "execution_count": 25,
     "metadata": {},
     "output_type": "execute_result"
    }
   ],
   "source": [
    "df['gt_passage_kf1'].mean()"
   ],
   "metadata": {
    "collapsed": false,
    "ExecuteTime": {
     "end_time": "2023-11-23T16:44:46.691056Z",
     "start_time": "2023-11-23T16:44:46.683909Z"
    }
   },
   "id": "1311f90a28a5f2ca"
  },
  {
   "cell_type": "code",
   "execution_count": 28,
   "outputs": [],
   "source": [
    "prompt = PromptTemplate.from_template(\n",
    "    \"\"\"\n",
    "    Answer user’s question about NLP paper using given paper passages.\n",
    "\n",
    "    Question: {question}\n",
    "\n",
    "    Paper passages:\n",
    "    {passages}\n",
    "\n",
    "    Answer:\n",
    "    \"\"\"\n",
    ")\n",
    "runnable = prompt | VLLMOpenAI(model_name=\"meta-llama/Llama-2-7b-hf\",\n",
    "                               openai_api_base=\"https://8185-34-87-172-99.ngrok-free.app/v1\",\n",
    "                               openai_api_key=\"\") | StrOutputParser()"
   ],
   "metadata": {
    "collapsed": false,
    "ExecuteTime": {
     "end_time": "2023-11-23T16:47:41.460927Z",
     "start_time": "2023-11-23T16:47:41.447209Z"
    }
   },
   "id": "d281309c38ce5c43"
  },
  {
   "cell_type": "code",
   "execution_count": 30,
   "outputs": [],
   "source": [
    "df['gold_answer'] = df.apply(lambda row: runnable.invoke({\n",
    "    \"question\": row['question'],\n",
    "    \"passages\": \"\\n\".join(ast.literal_eval(row['retrieval_gt_contents']))\n",
    "}), axis=1)"
   ],
   "metadata": {
    "collapsed": false,
    "ExecuteTime": {
     "end_time": "2023-11-23T17:25:44.322121Z",
     "start_time": "2023-11-23T16:48:20.488047Z"
    }
   },
   "id": "92fd70640e035394"
  },
  {
   "cell_type": "code",
   "execution_count": 31,
   "outputs": [
    {
     "data": {
      "text/plain": "                                            question  \\\n0                    What evaluation metric is used?   \n1                          What dataset do they use?   \n2  By how much do they outperform existing state-...   \n3  By how much does their method outperform state...   \n4  Is the baseline a non-heirarchical model like ...   \n\n                                        retrieval_gt  \\\n0                     ['1908.06083-8-Table10-1.png']   \n1  ['1910.11471-Proposed Methodology ::: Statisti...   \n2  ['1912.03010-EXPERIMENT ::: TedLium2-1'\\n '191...   \n3  ['1905.10247-EXPERIMENTAL SETUP AND EVALUATION...   \n4  ['1905.06566-Results-0' '1905.06566-7-Table1-1...   \n\n                                           answer_gt  \\\n0                             ['F1 and Weighted-F1']   \n1  ['A parallel corpus where the source is an Eng...   \n2                                            ['10%']   \n3  ['AE-HCN outperforms by 17%, AE-HCN-CNN outper...   \n4  ['There were hierarchical and non-hierarchical...   \n\n                               retrieval_gt_contents  \\\n0  ['Table 10: Results of experiments on the mult...   \n1  ['SMT techniques require a parallel corpus in ...   \n2  ['As far as we know, our model is the best E2E...   \n3  ['The result is shown in Table TABREF23 . Sinc...   \n4  ['Our main results on the CNNDM dataset are sh...   \n\n                                         answer_pred  \\\n0  \\n            Given two paper passages, what i...   \n1  1. NLP research paper passages:\\n            M...   \n2  \\n            Semantic Masking is a technique ...   \n3  \\n        [0]\\n            Question: By how mu...   \n4  1. BERT is a non-heirarchical model, but Hiber...   \n\n                                         passage_ids  \\\n0  ['1908.06083-Baselines: Wikipedia Toxic Commen...   \n1  ['1910.11471-Problem Description ::: NLP of st...   \n2  ['1912.03010-EXPERIMENT ::: Librispeech 960h-3...   \n3  ['1905.10247-CONCLUSION-0', '1905.10247-EXPERI...   \n4  ['1905.06566-Results-0', '1905.06566-Document ...   \n\n                                    passage_contents  \\\n0  ['We compare the two aforementioned models wit...   \n1  ['Mihalcea R. et al. has achieved a variable s...   \n2  ['As far as we know, our model is the best E2E...   \n3  ['We proposed a novel OOD detection method tha...   \n4  ['Our main results on the CNNDM dataset are sh...   \n\n              passage_scores  Recall  F1_score  Precision       KF1      BLEU  \\\n0  [1.0, 1.0, 1.0, 1.0, 1.0]     1.0       1.0        1.0  0.024390  0.000000   \n1  [1.0, 1.0, 1.0, 1.0, 1.0]     1.0       1.0        1.0  0.500000  0.705569   \n2  [1.0, 1.0, 1.0, 1.0, 1.0]     1.0       1.0        1.0  0.262997  0.000000   \n3  [1.0, 1.0, 1.0, 1.0, 1.0]     1.0       1.0        1.0  0.337875  0.544894   \n4  [1.0, 1.0, 1.0, 1.0, 1.0]     1.0       1.0        1.0  0.164623  0.279467   \n\n   gt_answer_bleu  gt_answer_kf1  gt_passage_bleu  gt_passage_kf1  \\\n0           100.0       0.040816         0.594312             1.0   \n1           100.0       0.376812         2.159419             1.0   \n2           100.0       0.011628         0.187284             1.0   \n3           100.0       0.044843         0.459571             1.0   \n4           100.0       0.025806         0.076119             1.0   \n\n                                         gold_answer  \n0  \\n  '''\\n  if not os.path.isfile('data/answers...  \n1   In their paper, they use a text-code parallel...  \n2  \\n    Semantic mask is complementary to specag...  \n3  1. Our method is a transfer learning method, i...  \n4  \\n    Yes, it's a non-hiearchical model. It's ...  ",
      "text/html": "<div>\n<style scoped>\n    .dataframe tbody tr th:only-of-type {\n        vertical-align: middle;\n    }\n\n    .dataframe tbody tr th {\n        vertical-align: top;\n    }\n\n    .dataframe thead th {\n        text-align: right;\n    }\n</style>\n<table border=\"1\" class=\"dataframe\">\n  <thead>\n    <tr style=\"text-align: right;\">\n      <th></th>\n      <th>question</th>\n      <th>retrieval_gt</th>\n      <th>answer_gt</th>\n      <th>retrieval_gt_contents</th>\n      <th>answer_pred</th>\n      <th>passage_ids</th>\n      <th>passage_contents</th>\n      <th>passage_scores</th>\n      <th>Recall</th>\n      <th>F1_score</th>\n      <th>Precision</th>\n      <th>KF1</th>\n      <th>BLEU</th>\n      <th>gt_answer_bleu</th>\n      <th>gt_answer_kf1</th>\n      <th>gt_passage_bleu</th>\n      <th>gt_passage_kf1</th>\n      <th>gold_answer</th>\n    </tr>\n  </thead>\n  <tbody>\n    <tr>\n      <th>0</th>\n      <td>What evaluation metric is used?</td>\n      <td>['1908.06083-8-Table10-1.png']</td>\n      <td>['F1 and Weighted-F1']</td>\n      <td>['Table 10: Results of experiments on the mult...</td>\n      <td>\\n            Given two paper passages, what i...</td>\n      <td>['1908.06083-Baselines: Wikipedia Toxic Commen...</td>\n      <td>['We compare the two aforementioned models wit...</td>\n      <td>[1.0, 1.0, 1.0, 1.0, 1.0]</td>\n      <td>1.0</td>\n      <td>1.0</td>\n      <td>1.0</td>\n      <td>0.024390</td>\n      <td>0.000000</td>\n      <td>100.0</td>\n      <td>0.040816</td>\n      <td>0.594312</td>\n      <td>1.0</td>\n      <td>\\n  '''\\n  if not os.path.isfile('data/answers...</td>\n    </tr>\n    <tr>\n      <th>1</th>\n      <td>What dataset do they use?</td>\n      <td>['1910.11471-Proposed Methodology ::: Statisti...</td>\n      <td>['A parallel corpus where the source is an Eng...</td>\n      <td>['SMT techniques require a parallel corpus in ...</td>\n      <td>1. NLP research paper passages:\\n            M...</td>\n      <td>['1910.11471-Problem Description ::: NLP of st...</td>\n      <td>['Mihalcea R. et al. has achieved a variable s...</td>\n      <td>[1.0, 1.0, 1.0, 1.0, 1.0]</td>\n      <td>1.0</td>\n      <td>1.0</td>\n      <td>1.0</td>\n      <td>0.500000</td>\n      <td>0.705569</td>\n      <td>100.0</td>\n      <td>0.376812</td>\n      <td>2.159419</td>\n      <td>1.0</td>\n      <td>In their paper, they use a text-code parallel...</td>\n    </tr>\n    <tr>\n      <th>2</th>\n      <td>By how much do they outperform existing state-...</td>\n      <td>['1912.03010-EXPERIMENT ::: TedLium2-1'\\n '191...</td>\n      <td>['10%']</td>\n      <td>['As far as we know, our model is the best E2E...</td>\n      <td>\\n            Semantic Masking is a technique ...</td>\n      <td>['1912.03010-EXPERIMENT ::: Librispeech 960h-3...</td>\n      <td>['As far as we know, our model is the best E2E...</td>\n      <td>[1.0, 1.0, 1.0, 1.0, 1.0]</td>\n      <td>1.0</td>\n      <td>1.0</td>\n      <td>1.0</td>\n      <td>0.262997</td>\n      <td>0.000000</td>\n      <td>100.0</td>\n      <td>0.011628</td>\n      <td>0.187284</td>\n      <td>1.0</td>\n      <td>\\n    Semantic mask is complementary to specag...</td>\n    </tr>\n    <tr>\n      <th>3</th>\n      <td>By how much does their method outperform state...</td>\n      <td>['1905.10247-EXPERIMENTAL SETUP AND EVALUATION...</td>\n      <td>['AE-HCN outperforms by 17%, AE-HCN-CNN outper...</td>\n      <td>['The result is shown in Table TABREF23 . Sinc...</td>\n      <td>\\n        [0]\\n            Question: By how mu...</td>\n      <td>['1905.10247-CONCLUSION-0', '1905.10247-EXPERI...</td>\n      <td>['We proposed a novel OOD detection method tha...</td>\n      <td>[1.0, 1.0, 1.0, 1.0, 1.0]</td>\n      <td>1.0</td>\n      <td>1.0</td>\n      <td>1.0</td>\n      <td>0.337875</td>\n      <td>0.544894</td>\n      <td>100.0</td>\n      <td>0.044843</td>\n      <td>0.459571</td>\n      <td>1.0</td>\n      <td>1. Our method is a transfer learning method, i...</td>\n    </tr>\n    <tr>\n      <th>4</th>\n      <td>Is the baseline a non-heirarchical model like ...</td>\n      <td>['1905.06566-Results-0' '1905.06566-7-Table1-1...</td>\n      <td>['There were hierarchical and non-hierarchical...</td>\n      <td>['Our main results on the CNNDM dataset are sh...</td>\n      <td>1. BERT is a non-heirarchical model, but Hiber...</td>\n      <td>['1905.06566-Results-0', '1905.06566-Document ...</td>\n      <td>['Our main results on the CNNDM dataset are sh...</td>\n      <td>[1.0, 1.0, 1.0, 1.0, 1.0]</td>\n      <td>1.0</td>\n      <td>1.0</td>\n      <td>1.0</td>\n      <td>0.164623</td>\n      <td>0.279467</td>\n      <td>100.0</td>\n      <td>0.025806</td>\n      <td>0.076119</td>\n      <td>1.0</td>\n      <td>\\n    Yes, it's a non-hiearchical model. It's ...</td>\n    </tr>\n  </tbody>\n</table>\n</div>"
     },
     "execution_count": 31,
     "metadata": {},
     "output_type": "execute_result"
    }
   ],
   "source": [
    "df.head()"
   ],
   "metadata": {
    "collapsed": false,
    "ExecuteTime": {
     "end_time": "2023-11-23T17:57:45.961620Z",
     "start_time": "2023-11-23T17:57:45.954583Z"
    }
   },
   "id": "80d619a1ba3ec5dd"
  },
  {
   "cell_type": "code",
   "execution_count": 32,
   "outputs": [],
   "source": [
    "df['gold_answer_bleu'] = df.apply(lambda row: bleu(ast.literal_eval(row['answer_gt']), row['gold_answer']), axis=1)"
   ],
   "metadata": {
    "collapsed": false,
    "ExecuteTime": {
     "end_time": "2023-11-23T17:57:54.960512Z",
     "start_time": "2023-11-23T17:57:54.799473Z"
    }
   },
   "id": "63ad2a7f8ff36302"
  },
  {
   "cell_type": "code",
   "execution_count": 33,
   "outputs": [
    {
     "data": {
      "text/plain": "1.6198945152542585"
     },
     "execution_count": 33,
     "metadata": {},
     "output_type": "execute_result"
    }
   ],
   "source": [
    "df['gold_answer_bleu'].mean()"
   ],
   "metadata": {
    "collapsed": false,
    "ExecuteTime": {
     "end_time": "2023-11-23T17:57:55.969051Z",
     "start_time": "2023-11-23T17:57:55.963087Z"
    }
   },
   "id": "ea84d75031da960e"
  },
  {
   "cell_type": "code",
   "execution_count": 36,
   "outputs": [],
   "source": [
    "df['gold_answer_kf1'] = df.apply(lambda row: KF1(ast.literal_eval(row['retrieval_gt_contents']), row['gold_answer']), axis=1)"
   ],
   "metadata": {
    "collapsed": false,
    "ExecuteTime": {
     "end_time": "2023-11-23T17:58:43.702617Z",
     "start_time": "2023-11-23T17:58:43.591200Z"
    }
   },
   "id": "cfdbc7a1e15b9eb"
  },
  {
   "cell_type": "code",
   "execution_count": 37,
   "outputs": [
    {
     "data": {
      "text/plain": "0.41099695089974964"
     },
     "execution_count": 37,
     "metadata": {},
     "output_type": "execute_result"
    }
   ],
   "source": [
    "df['gold_answer_kf1'].mean()"
   ],
   "metadata": {
    "collapsed": false,
    "ExecuteTime": {
     "end_time": "2023-11-23T17:58:43.942476Z",
     "start_time": "2023-11-23T17:58:43.939144Z"
    }
   },
   "id": "cb195371971f6727"
  },
  {
   "cell_type": "code",
   "execution_count": 38,
   "outputs": [],
   "source": [
    "df_no_passage = pd.read_csv('./reranker_only_no_passage_answer.csv')"
   ],
   "metadata": {
    "collapsed": false,
    "ExecuteTime": {
     "end_time": "2023-11-23T17:59:19.804356Z",
     "start_time": "2023-11-23T17:59:19.775539Z"
    }
   },
   "id": "e9b3e3197e0d8c9a"
  },
  {
   "cell_type": "code",
   "execution_count": 41,
   "outputs": [],
   "source": [
    "df_no_passage['no_passage_bleu'] = df_no_passage.apply(\n",
    "    lambda row: bleu(ast.literal_eval(row['answer_gt']), row['no_passage_answers']), axis=1)"
   ],
   "metadata": {
    "collapsed": false,
    "ExecuteTime": {
     "end_time": "2023-11-23T18:00:06.882058Z",
     "start_time": "2023-11-23T18:00:06.710218Z"
    }
   },
   "id": "2f67aee6efd94864"
  },
  {
   "cell_type": "code",
   "execution_count": 42,
   "outputs": [
    {
     "data": {
      "text/plain": "0.43429918078216445"
     },
     "execution_count": 42,
     "metadata": {},
     "output_type": "execute_result"
    }
   ],
   "source": [
    "df_no_passage['no_passage_bleu'].mean()"
   ],
   "metadata": {
    "collapsed": false,
    "ExecuteTime": {
     "end_time": "2023-11-23T18:00:12.565970Z",
     "start_time": "2023-11-23T18:00:12.548834Z"
    }
   },
   "id": "a708e4ff8cb39c16"
  },
  {
   "cell_type": "code",
   "execution_count": 43,
   "outputs": [],
   "source": [
    "df_no_passage['no_passage_kf1'] = df_no_passage.apply(\n",
    "    lambda row: KF1(ast.literal_eval(row['retrieval_gt_contents']), row['no_passage_answers']), axis=1)"
   ],
   "metadata": {
    "collapsed": false,
    "ExecuteTime": {
     "end_time": "2023-11-23T18:00:30.573940Z",
     "start_time": "2023-11-23T18:00:30.475807Z"
    }
   },
   "id": "5705ca506aacfaff"
  },
  {
   "cell_type": "code",
   "execution_count": 44,
   "outputs": [
    {
     "data": {
      "text/plain": "0.12197724122866072"
     },
     "execution_count": 44,
     "metadata": {},
     "output_type": "execute_result"
    }
   ],
   "source": [
    "df_no_passage['no_passage_kf1'].mean()"
   ],
   "metadata": {
    "collapsed": false,
    "ExecuteTime": {
     "end_time": "2023-11-23T18:00:32.067777Z",
     "start_time": "2023-11-23T18:00:32.057483Z"
    }
   },
   "id": "d4afaedf21f75022"
  },
  {
   "cell_type": "code",
   "execution_count": 45,
   "outputs": [],
   "source": [
    "df.to_csv('reranker_only_answer_with_gold_answer.csv', index=False)"
   ],
   "metadata": {
    "collapsed": false,
    "ExecuteTime": {
     "end_time": "2023-11-23T18:01:10.315424Z",
     "start_time": "2023-11-23T18:01:10.256439Z"
    }
   },
   "id": "f2977647fffdfc44"
  },
  {
   "cell_type": "code",
   "execution_count": null,
   "outputs": [],
   "source": [],
   "metadata": {
    "collapsed": false
   },
   "id": "7330ca1e35521e04"
  }
 ],
 "metadata": {
  "kernelspec": {
   "display_name": "Python 3",
   "language": "python",
   "name": "python3"
  },
  "language_info": {
   "codemirror_mode": {
    "name": "ipython",
    "version": 2
   },
   "file_extension": ".py",
   "mimetype": "text/x-python",
   "name": "python",
   "nbconvert_exporter": "python",
   "pygments_lexer": "ipython2",
   "version": "2.7.6"
  }
 },
 "nbformat": 4,
 "nbformat_minor": 5
}
